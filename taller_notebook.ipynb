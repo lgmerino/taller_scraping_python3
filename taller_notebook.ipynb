{
 "cells": [
  {
   "cell_type": "markdown",
   "metadata": {},
   "source": [
    "# Taller de scraping en Python\n",
    "\n",
    "Bienvenido/a al taller de scraping en Python. En este taller vamos a aprender a extraer información de la web. Para ello usaremos:\n",
    "\n",
    "1. Python 3 como lenguaje de programación,\n",
    "2. [requests](http://docs.python-requests.org/en/master/) para hacer peticiones HTTP,\n",
    "3. [BeautifulSoup 4](https://www.crummy.com/software/BeautifulSoup/) para extraer los datos,\n",
    "4. [Menéame](https://www.meneame.net) como fuente de información."
   ]
  },
  {
   "cell_type": "code",
   "execution_count": null,
   "metadata": {},
   "outputs": [],
   "source": [
    "# para ejecutar una celda pulsa Shift + Intro\n",
    "import requests\n",
    "import bs4\n",
    "from IPython.core.debugger import set_trace"
   ]
  },
  {
   "cell_type": "markdown",
   "metadata": {},
   "source": [
    "## Requests\n",
    "\n",
    "La librería [requests](http://docs.python-requests.org/en/master/) nos permite hacer peticiones HTTP. La vamos a utilizar para descargar el contenido de una web. Por ejemplo:"
   ]
  },
  {
   "cell_type": "code",
   "execution_count": null,
   "metadata": {},
   "outputs": [],
   "source": [
    "# Una vez ejecutada esta celda (con Shift+Intro) podrás llamar a esta función desde cualquier otra celda\n",
    "def do_get_request(url: str) -> requests.Response:\n",
    "    \"\"\"\n",
    "    Función para hacer una petición GET\n",
    "    \n",
    "    :param url: url a la que haremos la petición\n",
    "    :type url: str\n",
    "    :returns: respuesta a la petición\n",
    "    :rtype: requests.Response\n",
    "    \"\"\"\n",
    "    \n",
    "    response = requests.get(url)\n",
    "    # elevamos una excepción si la petición no ha tenido éxito (por ejemplo un 404 Not found)\n",
    "    response.raise_for_status()\n",
    "    return response"
   ]
  },
  {
   "cell_type": "code",
   "execution_count": null,
   "metadata": {},
   "outputs": [],
   "source": [
    "# provocamos un error haciendo una petición GET a una url inexistente. Salta la excepción\n",
    "url = \"https://www.meneamedkfjdslkfjdsl.net\"\n",
    "try:\n",
    "    request = do_get_request(url)\n",
    "except:\n",
    "    print('Error en la petición')"
   ]
  },
  {
   "cell_type": "code",
   "execution_count": null,
   "metadata": {},
   "outputs": [],
   "source": [
    "# hacemos una petición GET a Menéame. En el atributo text se guarda el HTML en texto plano\n",
    "url = \"https://www.meneame.net\"\n",
    "try:\n",
    "    request = do_get_request(url)\n",
    "    # imprimimos los primeros 500 caracteres del html recibido\n",
    "    print(request.text[:500])\n",
    "except:\n",
    "    print('Error en la petición')"
   ]
  },
  {
   "cell_type": "markdown",
   "metadata": {},
   "source": [
    "## Menéame\n",
    "\n",
    "Visita la web de [Menéame](https://www.meneame.net) y observa su estructura. La web consiste, básicamente, en una lista de noticias. Si miras el código fuente cada noticia está contenida en una etiqueta HTML div con clase news-summary:\n",
    "\n",
    "```html\n",
    "<div class=\"news-summary\">...</div> \n",
    "```"
   ]
  },
  {
   "cell_type": "markdown",
   "metadata": {},
   "source": [
    "## Beautiful Soup\n",
    "\n",
    "La librería [BeautifulSoup 4](https://www.crummy.com/software/BeautifulSoup/) nos ayuda a extraer datos de documentos XML y, por tanto, HTML. Por ejemplo, podemos seleccionar la lista de noticias para trabajar con ellas más tarde.\n"
   ]
  },
  {
   "cell_type": "code",
   "execution_count": null,
   "metadata": {},
   "outputs": [],
   "source": [
    "# creamos un objeto \"soup\" pasándole el html de la página principal de Menéame que nos devuelve requests\n",
    "soup = bs4.BeautifulSoup(request.text)\n",
    "\n",
    "# seleccionamos todas las etiquetas \"div\" que tengan la clase \"news-summary\"\n",
    "news = soup.findAll('div', attrs={'class': 'news-summary'})"
   ]
  },
  {
   "cell_type": "code",
   "execution_count": null,
   "metadata": {},
   "outputs": [],
   "source": [
    "# la función len nos devuelve la longitud de una lista (en este caso la lista news)\n",
    "print(\"{total_news} noticias encontradas\\n\".format(total_news=len(news)))"
   ]
  },
  {
   "cell_type": "code",
   "execution_count": null,
   "metadata": {},
   "outputs": [],
   "source": [
    "# imprimimos el html de la primera noticia\n",
    "print(\"HTML de la primera noticia:\\n\\n {html}\".format(html=news[0]))"
   ]
  },
  {
   "cell_type": "markdown",
   "metadata": {},
   "source": [
    "## Código para realizar los ejercicios\n",
    "\n",
    "A continuación encontrarás código que te facilitará la realización de los ejercicios"
   ]
  },
  {
   "cell_type": "code",
   "execution_count": null,
   "metadata": {},
   "outputs": [],
   "source": [
    "class News(object):\n",
    "    \"\"\" \n",
    "    Clase para procesar y guardar una noticia de menéame \n",
    "      \n",
    "    Attributes: \n",
    "        element (bs4.element.Tag): guarda un elemento de BeautifulSoup con una noticia de menéame\n",
    "    \"\"\"\n",
    "    def __init__(self, element: bs4.element.Tag):\n",
    "        self.title = self.read_title(element)\n",
    "        self.type = self.read_type(element)\n",
    "        self.votes = self.read_votes(element)\n",
    "        self.comments_url = self.read_comments_url(element)\n",
    "        self.user = self.read_user(element)\n",
    "        self.comments = []\n",
    "\n",
    "    @staticmethod\n",
    "    def read_title(element: bs4.element.Tag) -> str:\n",
    "        \"\"\"\n",
    "        Método que recibe un objeto de BeautifulSoup con una noticia de menéame y devuelve el título\n",
    "        \n",
    "        :param element: noticia\n",
    "        :type element: bs4.element.Tag\n",
    "        :returns: título de la noticia\n",
    "        :rtype: str\n",
    "        \"\"\"\n",
    "        \n",
    "        return element.find('h2').find('a').text.strip()\n",
    "    \n",
    "    @staticmethod\n",
    "    def read_type(element: bs4.element.Tag) -> str:\n",
    "        \"\"\"\n",
    "        Método que recibe un objeto de BeautifulSoup con una noticia de menéame y devuelve \"Noticia\",\n",
    "        \"Foto\" o \"Vídeo\"\n",
    "        \n",
    "        :param element: noticia\n",
    "        :type element: bs4.element.Tag\n",
    "        :returns: tipo de la noticia\n",
    "        :rtype: str\n",
    "        \"\"\"\n",
    "        \n",
    "        return ''\n",
    "\n",
    "    @staticmethod\n",
    "    def read_votes(element: bs4.element.Tag) -> int:\n",
    "        \"\"\"\n",
    "        Método que recibe un objeto de BeautifulSoup con una noticia de menéame y devuelve\n",
    "        el número de votos\n",
    "        \n",
    "        :param element: noticia\n",
    "        :type element: bs4.element.Tag\n",
    "        :returns: número de votos de la noticia\n",
    "        :rtype: int\n",
    "        \"\"\"\n",
    "\n",
    "        return 0\n",
    "\n",
    "    @staticmethod\n",
    "    def read_user(element: bs4.element.Tag) -> str:\n",
    "        \"\"\"\n",
    "        Método que recibe un objeto de BeautifulSoup con una noticia de menéame y devuelve el usuario\n",
    "        que la envió\n",
    "        \n",
    "        :param element: noticia\n",
    "        :type element: bs4.element.Tag\n",
    "        :returns: nombre del usuario de la noticia\n",
    "        :rtype: str\n",
    "        \"\"\"\n",
    "\n",
    "        return ''\n",
    "\n",
    "    @staticmethod\n",
    "    def read_comments_url(element: bs4.element.Tag) -> str:\n",
    "        \"\"\"\n",
    "        Método que recibe un objeto de BeautifulSoup con una noticia de menéame y devuelve \n",
    "        la url de la página de los comentarios\n",
    "        \n",
    "        :param element: noticia\n",
    "        :type element: bs4.element.Tag\n",
    "        :returns: url a los comentarios\n",
    "        :rtype: str\n",
    "        \"\"\"\n",
    "        \n",
    "        return ''\n",
    "    \n",
    "    @staticmethod\n",
    "    def get_comments(soup: bs4.BeautifulSoup) -> bs4.element.ResultSet:\n",
    "        \"\"\"\n",
    "        Método que selecciona todos los comentarios de un meneo\n",
    "        \n",
    "        :param soup: objeto BeautifulSoup de una página de comentarios de un meneo\n",
    "        :type soup: bs4.BeautifulSoup\n",
    "        :returns: lista con los comentarios\n",
    "        :rtype: bs4.element.ResultSet\n",
    "        \"\"\"\n",
    "        return None\n",
    "    \n",
    "    @staticmethod\n",
    "    def read_comment_karma(comment: bs4.element.Tag) -> int:\n",
    "        \"\"\"\n",
    "        Método que recibe un objeto de BeautifulSoup con un comentario de una noticia y devuelve \n",
    "        su karma (puntuación)\n",
    "        \n",
    "        :param comment: noticia\n",
    "        :type comment: bs4.element.Tag\n",
    "        :returns: karma del comentario\n",
    "        :rtype: int\n",
    "        \"\"\"\n",
    "        \n",
    "        return ''\n",
    "\n",
    "    @staticmethod\n",
    "    def read_comment_text(comment: bs4.element.Tag) -> str:\n",
    "        \"\"\"\n",
    "        Método que recibe un objeto de BeautifulSoup con un comentario de una noticia y devuelve \n",
    "        el texto del mismo\n",
    "        \n",
    "        :param comment: noticia\n",
    "        :type comment: bs4.element.Tag\n",
    "        :returns: texto del comentario\n",
    "        :rtype: str\n",
    "        \"\"\"\n",
    "        \n",
    "        return ''\n",
    "\n",
    "    def __getitem__(self, key):\n",
    "        \"\"\"\n",
    "        Método que nos permite usar sort con una lista de objetos News\n",
    "        \"\"\"\n",
    "        return getattr(self, key)\n",
    "    \n",
    "    def __str__(self):\n",
    "        \"\"\"\n",
    "        Método que nos permite hacer cosas como print(objeto_news)\n",
    "        \"\"\"\n",
    "        return \"{title} [{link}]\\n{user} ({votes})\"\\\n",
    "            .format(title=self.title, link=self.link, user=self.user, votes=self.votes)\n"
   ]
  },
  {
   "cell_type": "code",
   "execution_count": null,
   "metadata": {},
   "outputs": [],
   "source": [
    "def get_soup_object(url: str) -> bs4.BeautifulSoup:\n",
    "    \"\"\"\n",
    "    Función que hace una petición GET a la url que recibimos por parámetro. Devolvemos un objeto\n",
    "    BeautifulSoup con el html que nos devuelve requests\n",
    "    \n",
    "    :param url: url a la que haremos la petición\n",
    "    :type url: str\n",
    "    :returns: objeto BeautifulSoup\n",
    "    :rtype: bs4.BeautifulSoup\n",
    "    \"\"\"\n",
    "    request = do_get_request(url)\n",
    "    return bs4.BeautifulSoup(request.text)\n",
    "\n",
    "def get_news(soup: bs4.BeautifulSoup) -> bs4.element.ResultSet:\n",
    "    \"\"\"\n",
    "    Función que recibe por parámetro un objecto BeautifulSoup con el html de una página de noticias de \n",
    "    menéame y selecciona todas las noticias de dicha página\n",
    "    \n",
    "    :param soup: objeto BeautifulSoup con el HTML de una página de Menéame\n",
    "    :type soup: bs4.BeautifulSoup\n",
    "    :returns: ResultSet de BeautifulSoup con las noticias de la página\n",
    "    :rtype: bs4.element.ResultSet\n",
    "    \"\"\"\n",
    "    return soup.findAll('div', attrs={'class': 'news-summary'})\n",
    "\n",
    "from typing import List\n",
    "\n",
    "def load_data(news: bs4.element.ResultSet) -> List[News]:\n",
    "    \"\"\"\n",
    "    Función que recibe un ojeto ResultSet de BeautifulSoup con noticias de menéame y devuelve una lista\n",
    "    de objetos News con las noticias procesadas\n",
    "    \n",
    "    :param news: ResultSet de BeautifulSoup con las noticias de una página de Menéame\n",
    "    :type news: bs4.element.ResultSet\n",
    "    :returns: lista de objetos News\n",
    "    :rtype: list[News]\n",
    "    \"\"\"\n",
    "\n",
    "    return [News(element) for element in news]"
   ]
  },
  {
   "cell_type": "markdown",
   "metadata": {},
   "source": [
    "## Ejercicio 1\n",
    "\n",
    "Imprime los títulos de las noticias de la página principal de Menéame"
   ]
  },
  {
   "cell_type": "code",
   "execution_count": null,
   "metadata": {},
   "outputs": [],
   "source": [
    "def print_titles():\n",
    "    \"\"\"\n",
    "    Función que imprime los títulos de las noticias\n",
    "    \"\"\"\n",
    "     \n",
    "    # definimos la url a la que tenemos que conectarnos\n",
    "    url = \"https://www.meneame.net\"\n",
    "    # generamos un objeto de BeautifulSoup con el html que se descarga requests de url\n",
    "    soup = get_soup_object(url)\n",
    "    # seleccionamos las noticias del objeto de BeautifulSoup (que tiene todo el html)\n",
    "    list_news = get_news(soup)\n",
    "    # generamos una lista de noticias (objetos News) con la que podremos trabajar más fácilmente\n",
    "    data = load_data(list_news)\n",
    "    # recorremos la lista de News e imprimimos por pantalla el título\n",
    "    for news in data:\n",
    "        print(\"{title}\".format(title=news.title))\n",
    "\n",
    "print_titles()"
   ]
  },
  {
   "cell_type": "markdown",
   "metadata": {},
   "source": [
    "## Ejercicio 2\n",
    "\n",
    "Los envíos a Menéame pueden tener un icono al lado del título indicando si se trata de una foto o un vídeo. Imprime el tipo (Noticia, Fotografía o Vídeo) y el título de los meneos de la página principal.\n",
    "\n",
    "Tareas:\n",
    "\n",
    "1. Modifica el método News.read_type() para que lea el tipo de meneo\n",
    "2. Imprime el tipo y el título de forma similar a como se hace en el Ejercicio 1"
   ]
  },
  {
   "cell_type": "code",
   "execution_count": null,
   "metadata": {},
   "outputs": [],
   "source": [
    "def print_titles_and_type():\n",
    "    \"\"\"\n",
    "    Función que imprime el tipo y los títulos de los meneos\n",
    "    \"\"\"\n",
    "\n",
    "print_titles_and_type()"
   ]
  },
  {
   "cell_type": "markdown",
   "metadata": {},
   "source": [
    "## Ejercicio 3\n",
    "\n",
    "Vamos a mostrar la lista de titulares de la página principal de Menéame ordenados por el número de meneos (votos).\n",
    "\n",
    "Tareas:\n",
    "\n",
    "1. Modifica el método News.read_votes() para que devuelva el número de meneos de una noticia\n",
    "2. Ordena la lista que devuelve la función load_data por el campo con el número de votos. Puedes utilizar el método sort:\n",
    "```python\n",
    "lista = [news1, news2, news3, news4]\n",
    "# ordenamos por votos (esto lo podemos hacer porque hemos implementado News.__getitem__()\n",
    "lista.sort(key=lambda x: x.votes)\n",
    "```\n",
    "3. Imprime el número de votos y el título de la noticia por pantalla"
   ]
  },
  {
   "cell_type": "code",
   "execution_count": null,
   "metadata": {},
   "outputs": [],
   "source": [
    "def print_titles_sorted_by_votes():\n",
    "    \"\"\"\n",
    "    Función que imprime los votos y títulos de las noticias ordenado por el número de votos\n",
    "    \"\"\"\n",
    "\n",
    "print_titles_sorted_by_votes()"
   ]
  },
  {
   "cell_type": "markdown",
   "metadata": {},
   "source": [
    "## Ejercicio 4\n",
    "\n",
    "Mostrar las tres noticias con más votos en las 5 primeras páginas de menéame\n",
    "\n",
    "Tareas:\n",
    "\n",
    "1. Escribe un bucle en la función print_three_news_with_more_votes() para recuperar las primeras cinco páginas. La primera es https://www.meneame.net/, pero también puede ser https://www.meneame.net/?page=1, la segunda https://www.meneame.net/?page=2, etc. Te ayudará la función range(), por ejemplo:\n",
    "```python\n",
    "# el bucle imprime 1 2 3 4 5\n",
    "for i in range(1, 6):\n",
    "       print(i)\n",
    "```    \n",
    "\n",
    "2. Usa el método extend para juntar todas las noticias que devuelve load_data en una sola lista. Ejemplo:\n",
    "```python\n",
    "lista = []  # creamos una lista vacía\n",
    "lista.extend([1, 2, 3])  # ahora lista vale [1, 2, 3]\n",
    "lista.extend([6, 5, 4])  # ahora lista vale [1, 2, 3, 6, 5, 4]\n",
    "```\n",
    "3. Ordena la lista de noticias por el número de votos de mayor a menor, tendrás que pasar el parámetro reverse=True en sort\n",
    "4. Imprime el número de votos y el título de las tres primeras noticias"
   ]
  },
  {
   "cell_type": "code",
   "execution_count": null,
   "metadata": {},
   "outputs": [],
   "source": [
    "def print_three_news_with_more_votes():\n",
    "    \"\"\"\n",
    "    Función que imprime las tres noticias con más votos en las primeras cinco páginas de menéame\n",
    "    \"\"\"\n",
    "\n",
    "print_three_news_with_more_votes()"
   ]
  },
  {
   "cell_type": "markdown",
   "metadata": {},
   "source": [
    "## Ejercicio 5\n",
    "\n",
    "Mostrar el usuario que ha publicado más noticias en las 5 primeras páginas de menéame\n",
    "\n",
    "Tareas:\n",
    "\n",
    "1. Modifica el método News.read_user() para que devuelva el usuario que envió la noticia\n",
    "2. Escribe un bucle similar al del ejercicio anterior para recuperar las cinco primeras páginas\n",
    "3. Recorre la lista y contabiliza el número de noticias que tiene cada autor. Puedes crear un diccionario cuya clave es el nombre del usuario y el valor el número de noticias que tiene, por ejemplo:\n",
    "```python\n",
    "result = {'usuario1': 1, 'usuario2': 3, ..., 'usuarioN': 2}\n",
    "```\n",
    "\n",
    "Pistas:\n",
    "\n",
    "1. Te puede ser útil el método get(clave, valor_si_clave_no_existe) de los diccionarios, por ejemplo\n",
    "```python\n",
    "mi_diccionario = {'azul': 1, 'amarillo': 3}\n",
    "azul = mi_diccionario.get('azul', 0) # azul vale 1 porque toma el valor de mi_diccionar['azul']\n",
    "rojo = mi_diccionario.get('rojo', 0) # como la clave 'rojo' no existe en mi_diccionario rojo valdrá 0\n",
    "```\n",
    "2. Si has creado un diccionario como el de la tarea 3, puedes obtener el nombre del usuario que tiene más noticias con:\n",
    "```python\n",
    "user = max(result, key=result.get)\n",
    "```"
   ]
  },
  {
   "cell_type": "code",
   "execution_count": null,
   "metadata": {},
   "outputs": [],
   "source": [
    "def print_user_with_more_news():\n",
    "    \"\"\"\n",
    "    Función que imprime el usuario con más noticias en las cinco primeras páginas de menéame\n",
    "    \"\"\"\n",
    "\n",
    "print_user_with_more_news()"
   ]
  },
  {
   "cell_type": "markdown",
   "metadata": {},
   "source": [
    "## Ejercicio 6\n",
    "\n",
    "Busca la noticia con menos votos de la portada de menéame, recupera su primera página de comentarios e imprime por pantalla el título del meneo y el comentario más votado (con más karma)\n",
    "\n",
    "\n",
    "Tareas:\n",
    "\n",
    "1. Modifica el método News.read_comments_url() para que devuelva la url con el detalle de la noticia (donde se encuentran los comentarios)\n",
    "2. Busca la noticia de la portada de meneame.net con menos votos\n",
    "3. Accede a la url de los comentarios de la noticia con menos votos\n",
    "4. Completa los métodos News.get_comments(), News.read_comment_karma() y News.read_comment_text()\n",
    "5. Ordena los comentarios por el karma con sort\n",
    "6. Imprime el título de la noticia con más votos y en la siguiente línea el comentario con más puntuación y su karma"
   ]
  },
  {
   "cell_type": "code",
   "execution_count": null,
   "metadata": {},
   "outputs": [],
   "source": [
    "def print_comment_with_more_votes():\n",
    "    # función que imprime el comentario más votado de la noticia con menos votos en la portada de Menéame\n",
    "\n",
    "print_comment_with_more_votes()"
   ]
  },
  {
   "cell_type": "code",
   "execution_count": null,
   "metadata": {},
   "outputs": [],
   "source": []
  }
 ],
 "metadata": {
  "kernelspec": {
   "display_name": "Python 3",
   "language": "python",
   "name": "python3"
  },
  "language_info": {
   "codemirror_mode": {
    "name": "ipython",
    "version": 3
   },
   "file_extension": ".py",
   "mimetype": "text/x-python",
   "name": "python",
   "nbconvert_exporter": "python",
   "pygments_lexer": "ipython3",
   "version": "3.5.2"
  }
 },
 "nbformat": 4,
 "nbformat_minor": 2
}
